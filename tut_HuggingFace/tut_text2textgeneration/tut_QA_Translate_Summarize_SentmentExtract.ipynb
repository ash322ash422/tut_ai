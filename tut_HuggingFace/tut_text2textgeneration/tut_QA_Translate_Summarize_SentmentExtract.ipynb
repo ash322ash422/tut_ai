{
 "cells": [
  {
   "cell_type": "code",
   "execution_count": 1,
   "id": "6520044c-b01a-4a2b-8259-f70d11b2181f",
   "metadata": {},
   "outputs": [],
   "source": [
    "from transformers import pipeline"
   ]
  },
  {
   "cell_type": "code",
   "execution_count": 3,
   "id": "4f6f7257-a4ed-4817-9d6e-f7e04be977ae",
   "metadata": {},
   "outputs": [
    {
     "name": "stderr",
     "output_type": "stream",
     "text": [
      "No model was supplied, defaulted to google-t5/t5-base and revision a9723ea (https://huggingface.co/google-t5/t5-base).\n",
      "Using a pipeline without specifying a model name and revision in production is not recommended.\n"
     ]
    },
    {
     "name": "stdout",
     "output_type": "stream",
     "text": [
      "WARNING:tensorflow:From c:\\Users\\hi\\Desktop\\projects\\python_projects\\tutorial\\tut_ai\\tut_HuggingFace\\.venv\\Lib\\site-packages\\tf_keras\\src\\losses.py:2976: The name tf.losses.sparse_softmax_cross_entropy is deprecated. Please use tf.compat.v1.losses.sparse_softmax_cross_entropy instead.\n",
      "\n"
     ]
    },
    {
     "data": {
      "application/vnd.jupyter.widget-view+json": {
       "model_id": "bb921e07362748b391b981b219abb435",
       "version_major": 2,
       "version_minor": 0
      },
      "text/plain": [
       "model.safetensors:   0%|          | 0.00/892M [00:00<?, ?B/s]"
      ]
     },
     "metadata": {},
     "output_type": "display_data"
    },
    {
     "name": "stdout",
     "output_type": "stream",
     "text": [
      "WARNING:tensorflow:From c:\\Users\\hi\\Desktop\\projects\\python_projects\\tutorial\\tut_ai\\tut_HuggingFace\\.venv\\Lib\\site-packages\\tf_keras\\src\\backend.py:873: The name tf.get_default_graph is deprecated. Please use tf.compat.v1.get_default_graph instead.\n",
      "\n"
     ]
    },
    {
     "name": "stderr",
     "output_type": "stream",
     "text": [
      "c:\\Users\\hi\\Desktop\\projects\\python_projects\\tutorial\\tut_ai\\tut_HuggingFace\\.venv\\Lib\\site-packages\\huggingface_hub\\file_download.py:142: UserWarning: `huggingface_hub` cache-system uses symlinks by default to efficiently store duplicated files but your machine does not support them in C:\\Users\\hi\\.cache\\huggingface\\hub\\models--google-t5--t5-base. Caching files will still work but in a degraded version that might require more space on your disk. This warning can be disabled by setting the `HF_HUB_DISABLE_SYMLINKS_WARNING` environment variable. For more details, see https://huggingface.co/docs/huggingface_hub/how-to-cache#limitations.\n",
      "To support symlinks on Windows, you either need to activate Developer Mode or to run Python as an administrator. In order to activate developer mode, see this article: https://docs.microsoft.com/en-us/windows/apps/get-started/enable-your-device-for-development\n",
      "  warnings.warn(message)\n",
      "All PyTorch model weights were used when initializing TFT5ForConditionalGeneration.\n",
      "\n",
      "All the weights of TFT5ForConditionalGeneration were initialized from the PyTorch model.\n",
      "If your task is similar to the task the model of the checkpoint was trained on, you can already use TFT5ForConditionalGeneration for predictions without further training.\n"
     ]
    },
    {
     "data": {
      "application/vnd.jupyter.widget-view+json": {
       "model_id": "affc8b6d2ee24fd89caf0d6aabc2c0ab",
       "version_major": 2,
       "version_minor": 0
      },
      "text/plain": [
       "spiece.model:   0%|          | 0.00/792k [00:00<?, ?B/s]"
      ]
     },
     "metadata": {},
     "output_type": "display_data"
    },
    {
     "data": {
      "application/vnd.jupyter.widget-view+json": {
       "model_id": "18451dff22ab4a6babc299a6a6314f58",
       "version_major": 2,
       "version_minor": 0
      },
      "text/plain": [
       "tokenizer.json:   0%|          | 0.00/1.39M [00:00<?, ?B/s]"
      ]
     },
     "metadata": {},
     "output_type": "display_data"
    },
    {
     "name": "stderr",
     "output_type": "stream",
     "text": [
      "Device set to use 0\n"
     ]
    }
   ],
   "source": [
    "text2text = pipeline(\"text2text-generation\")"
   ]
  },
  {
   "cell_type": "markdown",
   "id": "6406c362-70f6-424f-a14f-7e5fd633b7c3",
   "metadata": {},
   "source": [
    "## Applications of Text2Text Generation\n",
    "#### 1. Question Answering\n",
    "Question answering involves extracting answers from a given context. "
   ]
  },
  {
   "cell_type": "code",
   "execution_count": 5,
   "id": "c756c49a-da86-45a1-957b-4f333ac57f40",
   "metadata": {},
   "outputs": [
    {
     "data": {
      "text/plain": [
       "[{'generated_text': 'New Delhi'}]"
      ]
     },
     "execution_count": 5,
     "metadata": {},
     "output_type": "execute_result"
    }
   ],
   "source": [
    "question = \" question: Which is the capital city of India? \"\n",
    "context = \" context: India is a beatiful place with neighbor like China, Pakistan and Bangladesh. \\\n",
    "            Capital of Pakistan is Islamabad, where as New Delhi, that is located in Northern part of India, is India's capital\"\n",
    "\n",
    "send_text_to_model = question + context\n",
    "text2text(send_text_to_model)"
   ]
  },
  {
   "cell_type": "markdown",
   "id": "46414b1e-d4d2-4e4a-a151-d31b17e7c710",
   "metadata": {},
   "source": [
    "### 2. Translation\n",
    "Translation converts text from one language to another. For example, translating from English to French:"
   ]
  },
  {
   "cell_type": "code",
   "execution_count": 11,
   "id": "1effb541-0b63-4506-969c-e2e2e8e25d22",
   "metadata": {},
   "outputs": [
    {
     "data": {
      "text/plain": [
       "[{'generated_text': 'Je suis heureux'}]"
      ]
     },
     "execution_count": 11,
     "metadata": {},
     "output_type": "execute_result"
    }
   ],
   "source": [
    "text2text(\"translate English to French: I am happy \")"
   ]
  },
  {
   "cell_type": "code",
   "execution_count": 17,
   "id": "5fe1818e-bac0-4c6a-84f3-4cdbebb24d18",
   "metadata": {},
   "outputs": [
    {
     "data": {
      "text/plain": [
       "[{'generated_text': 'Ich bin froh'}]"
      ]
     },
     "execution_count": 17,
     "metadata": {},
     "output_type": "execute_result"
    }
   ],
   "source": [
    "text2text(\"translate English to Spanish: I am happy\")"
   ]
  },
  {
   "cell_type": "markdown",
   "id": "939ca7e7-9162-4e7a-b784-51843459e227",
   "metadata": {},
   "source": [
    "### 3. Summarization\n",
    "Summarization condenses a long text into a shorter version:"
   ]
  },
  {
   "cell_type": "code",
   "execution_count": 16,
   "id": "dc11ae71-d091-4366-bb51-6f1f48a330e3",
   "metadata": {},
   "outputs": [
    {
     "data": {
      "text/plain": [
       "[{'generated_text': 'natural language processing (NLP) is a subfield of linguistics, computer science'}]"
      ]
     },
     "execution_count": 16,
     "metadata": {},
     "output_type": "execute_result"
    }
   ],
   "source": [
    "text2text(\"summarize: Natural language processing (NLP) is a subfield of linguistics, computer science, and artificial intelligence concerned with the interactions between computers and human language, in particular how to program computers to process and analyze large amounts of natural language data.\")"
   ]
  },
  {
   "cell_type": "markdown",
   "id": "1b7cac8a-1bae-4090-b009-ea730dd27194",
   "metadata": {},
   "source": [
    "### 4. Sentiment Classification\n",
    "Classifying the sentiment of a text as positive or negative:"
   ]
  },
  {
   "cell_type": "code",
   "execution_count": 19,
   "id": "140aef19-a04c-4aeb-beb1-06748cde4e5a",
   "metadata": {},
   "outputs": [
    {
     "data": {
      "text/plain": [
       "[{'generated_text': 'positive'}]"
      ]
     },
     "execution_count": 19,
     "metadata": {},
     "output_type": "execute_result"
    }
   ],
   "source": [
    "text2text(\"sst2 sentence: India is a beautiful country with neighbors like China, Pakistan, etc\")"
   ]
  },
  {
   "cell_type": "markdown",
   "id": "f911af07-9753-4413-9dbb-d41611c0573e",
   "metadata": {},
   "source": [
    "### 5. Sentiment Span Extraction\n",
    "Extracting the phrase responsible for the sentiment in a text:"
   ]
  },
  {
   "cell_type": "code",
   "execution_count": 24,
   "id": "87360b54-d508-4cf7-b770-57846fe18399",
   "metadata": {},
   "outputs": [
    {
     "data": {
      "text/plain": [
       "[{'generated_text': 'India is a beautiful country'}]"
      ]
     },
     "execution_count": 24,
     "metadata": {},
     "output_type": "execute_result"
    }
   ],
   "source": [
    "text2text(\"question: positive context: India is a beautiful country. Its neighbors are China, Pakistan, etc. Capital of India is N Delhi.\")"
   ]
  },
  {
   "cell_type": "code",
   "execution_count": null,
   "id": "1d7f2b3d-0950-4a6e-b68b-ac4d7921d001",
   "metadata": {},
   "outputs": [],
   "source": []
  }
 ],
 "metadata": {
  "kernelspec": {
   "display_name": "Python 3 (ipykernel)",
   "language": "python",
   "name": "python3"
  },
  "language_info": {
   "codemirror_mode": {
    "name": "ipython",
    "version": 3
   },
   "file_extension": ".py",
   "mimetype": "text/x-python",
   "name": "python",
   "nbconvert_exporter": "python",
   "pygments_lexer": "ipython3",
   "version": "3.11.2"
  }
 },
 "nbformat": 4,
 "nbformat_minor": 5
}
